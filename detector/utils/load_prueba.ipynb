{
 "cells": [
  {
   "cell_type": "code",
   "execution_count": 2,
   "metadata": {},
   "outputs": [
    {
     "name": "stdout",
     "output_type": "stream",
     "text": [
      "time               \n",
      "V-node       R1A   \n",
      "V-node.1     R1B   \n",
      "V-node.2     R1C   \n",
      "V-node.3     X0009A\n",
      "V-node.4     X0009B\n",
      "V-node.5     X0009C\n",
      "V-node.6     X0010A\n",
      "V-node.7     X0010B\n",
      "V-node.8     X0010C\n",
      "I-bran       X0039A\n",
      "I-bran.1     X0039B\n",
      "I-bran.2     X0039C\n",
      "I-bran.3     X0049A\n",
      "I-bran.4     X0049B\n",
      "I-bran.5     X0049C\n",
      "I-bran.6     X0061A\n",
      "I-bran.7     X0061B\n",
      "I-bran.8     X0061C\n",
      "I-bran.9     X0067A\n",
      "I-bran.10    X0067B\n",
      "I-bran.11    X0067C\n",
      "I-bran.12    X0024A\n",
      "I-bran.13    X0024B\n",
      "I-bran.14    X0024C\n",
      "I-bran.15    X0004A\n",
      "I-bran.16    X0004B\n",
      "I-bran.17    X0004C\n",
      "I-bran.18    X0072A\n",
      "I-bran.19    X0072B\n",
      "I-bran.20    X0072C\n",
      "1            MACH 1\n",
      "1.1          MACH 1\n",
      "1.2          MACH 1\n",
      "1.3          MACH 1\n",
      "1.4          MACH 1\n",
      "1.5          MACH 1\n",
      "1.6          MACH 1\n",
      "1.7          MACH 1\n",
      "1.8          MACH 1\n",
      "1.9          MACH 1\n",
      "1.10         MACH 1\n",
      "1.11         MACH 1\n",
      "1.12         MACH 1\n",
      "1.13         MACH 1\n",
      "1.14         MACH 1\n",
      "1.15         MACH 1\n",
      "3            MODELS\n",
      "3.1          MODELS\n",
      "3.2          MODELS\n",
      "3.3          MODELS\n",
      "3.4          MODELS\n",
      "3.5          MODELS\n",
      "3.6          MODELS\n",
      "3.7          MODELS\n",
      "Name: 0, dtype: object\n"
     ]
    }
   ],
   "source": [
    "import pandas as pd\n",
    "\n",
    "path = \"C:\\\\Users\\\\aherrada\\\\OneDrive - Universidad del Norte\\\\Uninorte\\\\DetectionDataBase\\\\septDataBaseCSV\\\\Fallas\\\\Fault01_B112_RF40.csv\"\n",
    "df = pd.read_csv(path, delimiter=\";\")\n",
    "# Obtener un número par de muestras\n",
    "if len(df) % 2 != 0:\n",
    "    df.drop(df.tail(1).index, inplace=True)\n",
    "\n",
    "df.columns = df.columns.str.replace(\" \", \"\")\n",
    "pattern = r\"^b'([\\w ]*)'\"\n",
    "\n",
    "node_from = df.iloc[0].str.replace(pattern, r\"\\1\", regex=True)\n",
    "node_to = df.iloc[1].str.replace(pattern, r\"\\1\", regex=True)\n",
    "df = df.drop(index=0)\n",
    "df = df.drop(index=1)\n",
    "\n"
   ]
  },
  {
   "cell_type": "code",
   "execution_count": 3,
   "metadata": {},
   "outputs": [
    {
     "name": "stdout",
     "output_type": "stream",
     "text": [
      "Index(['time', 'V', 'V', 'V', 'V', 'V', 'V', 'V', 'V', 'V', 'I', 'I', 'I', 'I',\n",
      "       'I', 'I', 'I', 'I', 'I', 'I', 'I', 'I', 'I', 'I', 'I', 'I', 'I', 'I',\n",
      "       'I', 'I', 'I', 'Model', 'Model', 'Model', 'Model', 'Model', 'Model',\n",
      "       'Model', 'Model', 'Model', 'Model', 'Model', 'Model', 'Model', 'Model',\n",
      "       'Model', 'Model', 'Model', 'Model', 'Model', 'Model', 'Model', 'Model',\n",
      "       'Model', 'Model'],\n",
      "      dtype='object')\n"
     ]
    }
   ],
   "source": [
    "df.columns = df.columns.str.replace(r\"(V|I)[.\\w-]*\", r\"\\1\", regex=True)\n",
    "df.columns = df.columns.str.replace(\"\\d*\\.*\\d+\", r\"Model\", regex=True)\n",
    "print(df.columns)"
   ]
  },
  {
   "cell_type": "code",
   "execution_count": null,
   "metadata": {},
   "outputs": [],
   "source": []
  }
 ],
 "metadata": {
  "kernelspec": {
   "display_name": "Python 3.10.6 ('env': venv)",
   "language": "python",
   "name": "python3"
  },
  "language_info": {
   "codemirror_mode": {
    "name": "ipython",
    "version": 3
   },
   "file_extension": ".py",
   "mimetype": "text/x-python",
   "name": "python",
   "nbconvert_exporter": "python",
   "pygments_lexer": "ipython3",
   "version": "3.10.6"
  },
  "orig_nbformat": 4,
  "vscode": {
   "interpreter": {
    "hash": "9665681c8e257545e41219a3472084d7320e99c649d6ba49441d879b50b14ece"
   }
  }
 },
 "nbformat": 4,
 "nbformat_minor": 2
}
