{
 "cells": [
  {
   "cell_type": "code",
   "execution_count": null,
   "metadata": {},
   "outputs": [],
   "source": [
    "import numpy as np\n",
    "import pandas as pd\n",
    "import tkinter as tk\n",
    "from tkinter import filedialog\n",
    "import csv"
   ]
  },
  {
   "cell_type": "code",
   "execution_count": null,
   "metadata": {},
   "outputs": [],
   "source": [
    "class CSV:\n",
    "    def __init__(self):\n",
    "        self.csv_load()\n",
    "\n",
    "    def csv_load(self):\n",
    "        \"\"\"Creación de la ventana para selección de archivo CSV\"\"\"\n",
    "        root = tk.Tk()\n",
    "        root.withdraw()\n",
    "        root.attributes(\"-topmost\", True)\n",
    "        root.lift()\n",
    "        (self.path, *self._) = filedialog.askopenfilenames(\n",
    "            multiple=False,\n",
    "            title=\"cargue CSV\",\n",
    "            filetypes=((\"archivos CSV\", \"*.csv\"),),\n",
    "        )\n",
    "        self.nombre = self.path[self.path.rfind(\"/\") + 1 :]\n",
    "        self.nombre = self.nombre.replace(\".csv\", \"\")\n",
    "        print(f\"Se seleccionó {self.nombre}\")\n",
    "        root.destroy()\n",
    "        self.extraer_csv()\n",
    "\n",
    "    def extraer_csv(self):\n",
    "        \"\"\"Extracción de características del CSV, esto se realiza automáticamente\"\"\"\n",
    "        sniffer = csv.sniffer()\n",
    "        with open(self.path, 'r') as f:\n",
    "            \n",
    "            delimiter = sniffer\n",
    "        df = pd.read_csv(self.path, delimiter=\";\")\n",
    "        xy = df.to_numpy()[2:, :].astype(float)\n",
    "        if len(xy) % 2 == 0:\n",
    "            N = len(xy)\n",
    "        else:\n",
    "            N = len(xy) - 1\n",
    "        xy = xy[:N:8]\n",
    "        self.t = xy[:, 0]\n",
    "        self.tf = max(self.t)\n",
    "        self.ti = self.t[0]\n",
    "        self.fs = int((len(self.t) - 1) / (self.tf - 0))\n",
    "        self.dt = 1 / self.fs\n",
    "\n",
    "        try:\n",
    "            self.R01Ia = xy[:, 22]\n",
    "            self.R01Va = xy[:, 1]\n",
    "            self.R01Vb = xy[:, 2]\n",
    "            self.R01Vc = xy[:, 3]\n",
    "            self.R10Va = xy[:, 1]\n",
    "            self.R10Vb = xy[:, 2]\n",
    "            self.R10Vc = xy[:, 3]\n",
    "            self.R15Va = xy[:, 1]\n",
    "            self.R15Vb = xy[:, 2]\n",
    "            self.R15Vc = xy[:, 3]\n",
    "            self.R01Ib = xy[:, 23]\n",
    "            self.R01Ic = xy[:, 24]\n",
    "            self.R10Ia = xy[:, 25]\n",
    "            self.R10Ib = xy[:, 26]\n",
    "            self.R10Ic = xy[:, 27]\n",
    "            self.R15Ia = xy[:, 28]\n",
    "            self.R15Ib = xy[:, 29]\n",
    "            self.R15Ic = xy[:, 30]\n",
    "        except:\n",
    "            self.Va = xy[:, 1]\n",
    "            self.Vb = xy[:, 2]\n",
    "            self.Vc = xy[:, 3]\n",
    "            self.Ia = xy[:, 4]\n",
    "            self.Ib = xy[:, 5]\n",
    "            self.Ic = xy[:, 6]"
   ]
  }
 ],
 "metadata": {
  "kernelspec": {
   "display_name": "Python 3.10.6 ('env': venv)",
   "language": "python",
   "name": "python3"
  },
  "language_info": {
   "codemirror_mode": {
    "name": "ipython",
    "version": 3
   },
   "file_extension": ".py",
   "mimetype": "text/x-python",
   "name": "python",
   "nbconvert_exporter": "python",
   "pygments_lexer": "ipython3",
   "version": "3.10.6"
  },
  "orig_nbformat": 4,
  "vscode": {
   "interpreter": {
    "hash": "9665681c8e257545e41219a3472084d7320e99c649d6ba49441d879b50b14ece"
   }
  }
 },
 "nbformat": 4,
 "nbformat_minor": 2
}
